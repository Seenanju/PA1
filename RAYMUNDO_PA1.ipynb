{
 "cells": [
  {
   "cell_type": "markdown",
   "id": "7e0843f2-e8df-4668-bd7c-16ae275d6cd8",
   "metadata": {},
   "source": [
    "Johann Raymundo"
   ]
  },
  {
   "cell_type": "markdown",
   "id": "309a27d7-b3d5-4a40-85ab-caab482359a0",
   "metadata": {},
   "source": [
    "2ECE-B"
   ]
  },
  {
   "cell_type": "markdown",
   "id": "ae0795d2-37a8-483f-a155-b8c38a0c871a",
   "metadata": {},
   "source": [
    "Programming Assignment 1"
   ]
  },
  {
   "cell_type": "markdown",
   "id": "cd3f00ad-29d7-4a94-ad93-78b30a017fce",
   "metadata": {},
   "source": [
    "### ALPHABET SOUP PROBLEM: Create a function that takes a string and returns a string with its letters in alphabetical order."
   ]
  },
  {
   "cell_type": "code",
   "execution_count": 44,
   "id": "5fa9c42b-5747-4f49-a9e9-49532c0fde03",
   "metadata": {},
   "outputs": [],
   "source": [
    "#define the function \"arrange\"\n",
    "def arrange(insert_string):\n",
    "#use \"sorted\" command to sort the string into alphabetical order, then use \"join\" function to merge the arranged characters back into a single string\n",
    "    return ''.join(sorted(insert_string))"
   ]
  },
  {
   "cell_type": "markdown",
   "id": "ca2156bf-6bb0-41d8-95e6-8b106826b6c9",
   "metadata": {},
   "source": [
    "examples:"
   ]
  },
  {
   "cell_type": "code",
   "execution_count": 32,
   "id": "48d74be0-cf9e-4661-93a7-2272c3d62555",
   "metadata": {},
   "outputs": [
    {
     "data": {
      "text/plain": [
       "'ehllo'"
      ]
     },
     "execution_count": 32,
     "metadata": {},
     "output_type": "execute_result"
    }
   ],
   "source": [
    "arrange(\"hello\")"
   ]
  },
  {
   "cell_type": "code",
   "execution_count": 34,
   "id": "27236105-c185-4ca0-b9a3-8a944c82b995",
   "metadata": {},
   "outputs": [
    {
     "data": {
      "text/plain": [
       "'acehkr'"
      ]
     },
     "execution_count": 34,
     "metadata": {},
     "output_type": "execute_result"
    }
   ],
   "source": [
    "arrange(\"hacker\")"
   ]
  },
  {
   "cell_type": "code",
   "execution_count": 36,
   "id": "7395c5e6-4fd2-472e-81ff-c45991c65393",
   "metadata": {},
   "outputs": [
    {
     "data": {
      "text/plain": [
       "' aadeemmm'"
      ]
     },
     "execution_count": 36,
     "metadata": {},
     "output_type": "execute_result"
    }
   ],
   "source": [
    "arrange(\"mam madee\")"
   ]
  },
  {
   "cell_type": "markdown",
   "id": "4334f884-4eaf-4a44-9556-f36b98adfa6d",
   "metadata": {},
   "source": [
    "### EMOTICON PROBLEM: Create a function that changes specific words into emoticons. Given a sentence as a string, replace the words smile, grin, sad and mad with their corresponding emoticon"
   ]
  },
  {
   "cell_type": "markdown",
   "id": "8a89e0a2-6f4d-4ac1-a8c9-e9e4aacae8d8",
   "metadata": {},
   "source": [
    "define the function \"emotify\". then define a dictionary \"emoticons\" that maps each word to its corresponding emoticon. "
   ]
  },
  {
   "cell_type": "code",
   "execution_count": 58,
   "id": "31e9daea-e966-47d1-9af1-2f10cf6420af",
   "metadata": {},
   "outputs": [],
   "source": [
    "#define the function \"emotify\"\n",
    "def emotify(sentence):\n",
    "#then define a dictionary \"emoticons\" that maps each word to its corresponding emoticon\n",
    "    emoticons = {\n",
    "        \"smile\": \":)\",\n",
    "        \"grin\": \":D\",\n",
    "        \"sad\": \":(( \",\n",
    "        \"mad\": \">:( \"\n",
    "    }\n",
    "#iterate over the dictionary using the .items() method, which returns an iterator over the key-value pairs.\n",
    "    for word, emoticon in emoticons.items():\n",
    "#we use \".replace()\" to replace all occurrences of the word in the sentence with its corresponding emoticon.\n",
    "        sentence = sentence.replace(word, emoticon)\n",
    "#return the modified sentence\n",
    "    return sentence"
   ]
  },
  {
   "cell_type": "markdown",
   "id": "2a9636a4-cebb-4814-bc9e-6a90040a9c7e",
   "metadata": {},
   "source": [
    "examples:"
   ]
  },
  {
   "cell_type": "code",
   "execution_count": 60,
   "id": "60a41ae8-1d4e-47f6-851a-70175d3bd3d8",
   "metadata": {},
   "outputs": [
    {
     "name": "stdout",
     "output_type": "stream",
     "text": [
      "Make me :)\n"
     ]
    }
   ],
   "source": [
    "print(emotify(\"Make me smile\"))"
   ]
  },
  {
   "cell_type": "code",
   "execution_count": 62,
   "id": "35fa1f69-0f64-4d71-8d2c-98b004638a03",
   "metadata": {},
   "outputs": [
    {
     "name": "stdout",
     "output_type": "stream",
     "text": [
      "I am >:( \n"
     ]
    }
   ],
   "source": [
    "print(emotify(\"I am mad\"))"
   ]
  },
  {
   "cell_type": "code",
   "execution_count": 64,
   "id": "f039edee-b03e-4eb6-a302-836e0d1da9b2",
   "metadata": {},
   "outputs": [
    {
     "name": "stdout",
     "output_type": "stream",
     "text": [
      "adv prog makes me :(( \n"
     ]
    }
   ],
   "source": [
    "print(emotify(\"adv prog makes me sad\"))"
   ]
  },
  {
   "cell_type": "markdown",
   "id": "3eb0d7b9-bc80-41f9-8e5b-20c81067e298",
   "metadata": {},
   "source": [
    "### UNPACKING LIST PROBLEM: Unpack the list writeyourcodehere into three variables, being first, middle, and last, with middle being everything in between the first and last element. Then print all three variables."
   ]
  },
  {
   "cell_type": "code",
   "execution_count": null,
   "id": "f45631fa-3a20-414f-9b77-7277dfb9a9b1",
   "metadata": {},
   "outputs": [],
   "source": [
    "#insert values into list writeyourcodehere\n",
    "writeyourcodehere = [insert_list]\n",
    "#assign variables to the list\n",
    "#first variable is assigned the first element of the list\n",
    "#* symbol is used to capture all elements in the list except the first and last ones and store them in the middle variable\n",
    "#last variable is assigned the last element of the list\n",
    "first, *middle, last = writeyourcodehere\n",
    "#print the values of each variable\n",
    "print(f\"first: {first}\")\n",
    "print(f\"middle: {middle}\")\n",
    "print(f\"last: {last}\")"
   ]
  },
  {
   "cell_type": "markdown",
   "id": "c762f06f-3ab3-403a-bab7-9858f2d45545",
   "metadata": {},
   "source": [
    "examples:"
   ]
  },
  {
   "cell_type": "code",
   "execution_count": 78,
   "id": "bab389c9-9a0b-4c08-b64f-01518af6eb67",
   "metadata": {},
   "outputs": [
    {
     "name": "stdout",
     "output_type": "stream",
     "text": [
      "first: 1\n",
      "middle: [2, 3, 4, 5]\n",
      "last: 6\n"
     ]
    }
   ],
   "source": [
    "writeyourcodehere = [1, 2, 3, 4, 5, 6]\n",
    "\n",
    "first, *middle, last = writeyourcodehere\n",
    "\n",
    "print(f\"first: {first}\")\n",
    "print(f\"middle: {middle}\")\n",
    "print(f\"last: {last}\")"
   ]
  },
  {
   "cell_type": "code",
   "execution_count": 80,
   "id": "90ad25c1-fcf4-42a6-84cc-b934bdb3a4c9",
   "metadata": {},
   "outputs": [
    {
     "name": "stdout",
     "output_type": "stream",
     "text": [
      "first: 1\n",
      "middle: [8, 4, 3, 9]\n",
      "last: 7\n"
     ]
    }
   ],
   "source": [
    "writeyourcodehere = [1, 8, 4, 3, 9, 7]\n",
    "\n",
    "first, *middle, last = writeyourcodehere\n",
    "\n",
    "print(f\"first: {first}\")\n",
    "print(f\"middle: {middle}\")\n",
    "print(f\"last: {last}\")"
   ]
  }
 ],
 "metadata": {
  "kernelspec": {
   "display_name": "Python 3 (ipykernel)",
   "language": "python",
   "name": "python3"
  },
  "language_info": {
   "codemirror_mode": {
    "name": "ipython",
    "version": 3
   },
   "file_extension": ".py",
   "mimetype": "text/x-python",
   "name": "python",
   "nbconvert_exporter": "python",
   "pygments_lexer": "ipython3",
   "version": "3.12.4"
  }
 },
 "nbformat": 4,
 "nbformat_minor": 5
}
